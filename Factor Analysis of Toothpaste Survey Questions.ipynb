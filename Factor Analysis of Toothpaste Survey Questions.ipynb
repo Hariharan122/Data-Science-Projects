{
 "cells": [
  {
   "cell_type": "markdown",
   "metadata": {},
   "source": [
    "### Factor Analysis of Toothpaste Survey Questions"
   ]
  },
  {
   "cell_type": "code",
   "execution_count": 2,
   "metadata": {},
   "outputs": [],
   "source": [
    "#Import all the necessary libraries and packages\n",
    "import numpy as np\n",
    "import pandas as pd\n",
    "import matplotlib.pyplot as plt\n",
    "import seaborn as sns\n",
    "from factor_analyzer import Rotator, FactorAnalyzer\n",
    "\n",
    "#To enable plotting in Jupyter Notebook\n",
    "%matplotlib inline"
   ]
  },
  {
   "cell_type": "code",
   "execution_count": 3,
   "metadata": {},
   "outputs": [
    {
     "data": {
      "text/html": [
       "<div>\n",
       "<style scoped>\n",
       "    .dataframe tbody tr th:only-of-type {\n",
       "        vertical-align: middle;\n",
       "    }\n",
       "\n",
       "    .dataframe tbody tr th {\n",
       "        vertical-align: top;\n",
       "    }\n",
       "\n",
       "    .dataframe thead th {\n",
       "        text-align: right;\n",
       "    }\n",
       "</style>\n",
       "<table border=\"1\" class=\"dataframe\">\n",
       "  <thead>\n",
       "    <tr style=\"text-align: right;\">\n",
       "      <th></th>\n",
       "      <th>PreventCav</th>\n",
       "      <th>ShinyTeeth</th>\n",
       "      <th>StrengthGum</th>\n",
       "      <th>Fresh</th>\n",
       "      <th>Decay</th>\n",
       "      <th>Attractive</th>\n",
       "    </tr>\n",
       "  </thead>\n",
       "  <tbody>\n",
       "    <tr>\n",
       "      <th>0</th>\n",
       "      <td>7</td>\n",
       "      <td>3</td>\n",
       "      <td>6</td>\n",
       "      <td>4</td>\n",
       "      <td>2</td>\n",
       "      <td>4</td>\n",
       "    </tr>\n",
       "    <tr>\n",
       "      <th>1</th>\n",
       "      <td>1</td>\n",
       "      <td>3</td>\n",
       "      <td>2</td>\n",
       "      <td>4</td>\n",
       "      <td>5</td>\n",
       "      <td>4</td>\n",
       "    </tr>\n",
       "    <tr>\n",
       "      <th>2</th>\n",
       "      <td>6</td>\n",
       "      <td>2</td>\n",
       "      <td>7</td>\n",
       "      <td>4</td>\n",
       "      <td>1</td>\n",
       "      <td>3</td>\n",
       "    </tr>\n",
       "    <tr>\n",
       "      <th>3</th>\n",
       "      <td>4</td>\n",
       "      <td>5</td>\n",
       "      <td>4</td>\n",
       "      <td>6</td>\n",
       "      <td>2</td>\n",
       "      <td>5</td>\n",
       "    </tr>\n",
       "    <tr>\n",
       "      <th>4</th>\n",
       "      <td>1</td>\n",
       "      <td>2</td>\n",
       "      <td>2</td>\n",
       "      <td>3</td>\n",
       "      <td>6</td>\n",
       "      <td>2</td>\n",
       "    </tr>\n",
       "  </tbody>\n",
       "</table>\n",
       "</div>"
      ],
      "text/plain": [
       "   PreventCav  ShinyTeeth  StrengthGum  Fresh  Decay  Attractive\n",
       "0           7           3            6      4      2           4\n",
       "1           1           3            2      4      5           4\n",
       "2           6           2            7      4      1           3\n",
       "3           4           5            4      6      2           5\n",
       "4           1           2            2      3      6           2"
      ]
     },
     "execution_count": 3,
     "metadata": {},
     "output_type": "execute_result"
    }
   ],
   "source": [
    "#Load the 'csv' file\n",
    "df = pd.read_csv(\"PCA-nm.csv\")\n",
    "df.head()"
   ]
  },
  {
   "cell_type": "code",
   "execution_count": 4,
   "metadata": {},
   "outputs": [
    {
     "data": {
      "text/plain": [
       "FactorAnalyzer(bounds=(0.005, 1), impute='median', is_corr_matrix=False,\n",
       "               method='minres', n_factors=6, rotation=None, rotation_kwargs={},\n",
       "               use_smc=True)"
      ]
     },
     "execution_count": 4,
     "metadata": {},
     "output_type": "execute_result"
    }
   ],
   "source": [
    "#Factor Analysis\n",
    "fa = FactorAnalyzer(n_factors=6, rotation=None)\n",
    "fa.fit(df)"
   ]
  },
  {
   "cell_type": "code",
   "execution_count": 5,
   "metadata": {},
   "outputs": [
    {
     "data": {
      "text/plain": [
       "array([[ 0.95918811,  0.17556875, -0.15680063,  0.13854481,  0.01878815,\n",
       "         0.        ],\n",
       "       [-0.21174249,  0.73009791,  0.04577852,  0.21610033, -0.0564725 ,\n",
       "         0.        ],\n",
       "       [ 0.93568743,  0.04488872,  0.22916581,  0.01705503,  0.06808136,\n",
       "         0.        ],\n",
       "       [-0.25386625,  0.74876413, -0.21149323, -0.06388534,  0.08368224,\n",
       "         0.        ],\n",
       "       [-0.85266382, -0.26546652,  0.10230094,  0.15350432,  0.08568018,\n",
       "         0.        ],\n",
       "       [-0.10633984,  0.8659057 ,  0.19555888, -0.10887884, -0.00581736,\n",
       "         0.        ]])"
      ]
     },
     "execution_count": 5,
     "metadata": {},
     "output_type": "execute_result"
    }
   ],
   "source": [
    "#Factor Loadings\n",
    "fa.loadings_"
   ]
  },
  {
   "cell_type": "code",
   "execution_count": 9,
   "metadata": {},
   "outputs": [
    {
     "data": {
      "text/plain": [
       "(array([2.73118833, 2.21811927, 0.44159791, 0.34125765, 0.18262823,\n",
       "        0.08520861]),\n",
       " array([ 2.64317969e+00,  1.94679538e+00,  1.72637406e-01,  1.05684567e-01,\n",
       "         2.25549680e-02, -8.03944575e-07]))"
      ]
     },
     "execution_count": 9,
     "metadata": {},
     "output_type": "execute_result"
    }
   ],
   "source": [
    "#Eigen Values of the 6 dimensions\n",
    "fa.get_eigenvalues()"
   ]
  },
  {
   "cell_type": "code",
   "execution_count": 7,
   "metadata": {},
   "outputs": [
    {
     "data": {
      "text/plain": [
       "<matplotlib.axes._subplots.AxesSubplot at 0x227738c90f0>"
      ]
     },
     "execution_count": 7,
     "metadata": {},
     "output_type": "execute_result"
    },
    {
     "data": {
      "image/png": "[encoded data removed]",
      "text/plain": [
       "<Figure size 720x360 with 2 Axes>"
      ]
     },
     "metadata": {
      "needs_background": "light"
     },
     "output_type": "display_data"
    }
   ],
   "source": [
    "#Heatmap of the Factor Loadings\n",
    "plt.figure(figsize=(10,5))\n",
    "sns.heatmap(fa.loadings_, cmap='seismic', annot=True, vmin=-1, vmax=1)"
   ]
  },
  {
   "cell_type": "code",
   "execution_count": 11,
   "metadata": {},
   "outputs": [
    {
     "data": {
      "text/plain": [
       "FactorAnalyzer(bounds=(0.005, 1), impute='median', is_corr_matrix=False,\n",
       "               method='minres', n_factors=2, rotation='varimax',\n",
       "               rotation_kwargs={}, use_smc=True)"
      ]
     },
     "execution_count": 11,
     "metadata": {},
     "output_type": "execute_result"
    }
   ],
   "source": [
    "#Iteration 2 - Factor Analysis reducing the number of dimension to 2\n",
    "fa1 = FactorAnalyzer(n_factors=2, rotation='varimax')\n",
    "fa1.fit(df)"
   ]
  },
  {
   "cell_type": "code",
   "execution_count": 12,
   "metadata": {},
   "outputs": [
    {
     "data": {
      "text/plain": [
       "array([[ 0.96340527, -0.0353135 ],\n",
       "       [-0.05031349,  0.74740743],\n",
       "       [ 0.90105235, -0.15455031],\n",
       "       [-0.08645543,  0.76898928],\n",
       "       [-0.88486744, -0.07482967],\n",
       "       [ 0.07887818,  0.8475578 ]])"
      ]
     },
     "execution_count": 12,
     "metadata": {},
     "output_type": "execute_result"
    }
   ],
   "source": [
    "#Iteration 2 - Factor Loadings\n",
    "fa1.loadings_"
   ]
  },
  {
   "cell_type": "code",
   "execution_count": 13,
   "metadata": {},
   "outputs": [
    {
     "data": {
      "text/plain": [
       "<matplotlib.axes._subplots.AxesSubplot at 0x227758e8668>"
      ]
     },
     "execution_count": 13,
     "metadata": {},
     "output_type": "execute_result"
    },
    {
     "data": {
      "image/png": "[encoded data removed]",
      "text/plain": [
       "<Figure size 720x360 with 2 Axes>"
      ]
     },
     "metadata": {
      "needs_background": "light"
     },
     "output_type": "display_data"
    }
   ],
   "source": [
    "#Iteration 2 - Heatmap of the Factor Loadings\n",
    "plt.figure(figsize=(10,5))\n",
    "sns.heatmap(fa1.loadings_, cmap='seismic', annot=True, vmin=-1, vmax=1)"
   ]
  },
  {
   "cell_type": "code",
   "execution_count": 14,
   "metadata": {},
   "outputs": [
    {
     "data": {
      "text/plain": [
       "array([[ 1.33478791, -0.20678635],\n",
       "       [-1.29945947, -0.26658665],\n",
       "       [ 1.15554837, -0.86650512],\n",
       "       [ 0.14425562,  0.94671736],\n",
       "       [-1.4801442 , -1.41775158],\n",
       "       [ 1.00956206, -0.25814599],\n",
       "       [ 0.46293172, -0.93728166],\n",
       "       [ 1.18494605, -0.1266024 ],\n",
       "       [-0.80029481, -0.57512958],\n",
       "       [-1.10655026,  1.4152962 ],\n",
       "       [ 1.05081689, -0.72387061],\n",
       "       [-1.07950018, -0.13025677],\n",
       "       [ 1.37550766, -0.73017524],\n",
       "       [ 0.12039551,  1.27123655],\n",
       "       [-1.35301552, -0.69483388],\n",
       "       [ 0.92198847, -0.30151749],\n",
       "       [ 0.61392051, -0.53888315],\n",
       "       [ 1.52732981, -0.26124878],\n",
       "       [-1.0202541 , -0.71145946],\n",
       "       [-0.39707398,  1.28720303],\n",
       "       [-1.34631331, -0.83334705],\n",
       "       [ 0.56191174, -0.03852936],\n",
       "       [-0.9919266 , -0.08688526],\n",
       "       [ 0.07997403,  1.80748913],\n",
       "       [ 0.88570771, -0.08342506],\n",
       "       [-0.22809393,  1.57012348],\n",
       "       [ 0.54465176, -0.2896782 ],\n",
       "       [-0.72779675,  0.64051322],\n",
       "       [ 0.13239847,  2.15234472],\n",
       "       [-1.2762112 , -1.01202404]])"
      ]
     },
     "execution_count": 14,
     "metadata": {},
     "output_type": "execute_result"
    }
   ],
   "source": [
    "#Transform the data - Reducing to 2 Dimensions\n",
    "fa1.transform(df)"
   ]
  },
  {
   "cell_type": "code",
   "execution_count": 19,
   "metadata": {},
   "outputs": [
    {
     "data": {
      "text/html": [
       "<div>\n",
       "<style scoped>\n",
       "    .dataframe tbody tr th:only-of-type {\n",
       "        vertical-align: middle;\n",
       "    }\n",
       "\n",
       "    .dataframe tbody tr th {\n",
       "        vertical-align: top;\n",
       "    }\n",
       "\n",
       "    .dataframe thead th {\n",
       "        text-align: right;\n",
       "    }\n",
       "</style>\n",
       "<table border=\"1\" class=\"dataframe\">\n",
       "  <thead>\n",
       "    <tr style=\"text-align: right;\">\n",
       "      <th></th>\n",
       "      <th>Teeth Health</th>\n",
       "      <th>Teeth Aesthetics</th>\n",
       "    </tr>\n",
       "  </thead>\n",
       "  <tbody>\n",
       "    <tr>\n",
       "      <th>0</th>\n",
       "      <td>1.334788</td>\n",
       "      <td>-0.206786</td>\n",
       "    </tr>\n",
       "    <tr>\n",
       "      <th>1</th>\n",
       "      <td>-1.299459</td>\n",
       "      <td>-0.266587</td>\n",
       "    </tr>\n",
       "    <tr>\n",
       "      <th>2</th>\n",
       "      <td>1.155548</td>\n",
       "      <td>-0.866505</td>\n",
       "    </tr>\n",
       "    <tr>\n",
       "      <th>3</th>\n",
       "      <td>0.144256</td>\n",
       "      <td>0.946717</td>\n",
       "    </tr>\n",
       "    <tr>\n",
       "      <th>4</th>\n",
       "      <td>-1.480144</td>\n",
       "      <td>-1.417752</td>\n",
       "    </tr>\n",
       "    <tr>\n",
       "      <th>5</th>\n",
       "      <td>1.009562</td>\n",
       "      <td>-0.258146</td>\n",
       "    </tr>\n",
       "    <tr>\n",
       "      <th>6</th>\n",
       "      <td>0.462932</td>\n",
       "      <td>-0.937282</td>\n",
       "    </tr>\n",
       "    <tr>\n",
       "      <th>7</th>\n",
       "      <td>1.184946</td>\n",
       "      <td>-0.126602</td>\n",
       "    </tr>\n",
       "    <tr>\n",
       "      <th>8</th>\n",
       "      <td>-0.800295</td>\n",
       "      <td>-0.575130</td>\n",
       "    </tr>\n",
       "    <tr>\n",
       "      <th>9</th>\n",
       "      <td>-1.106550</td>\n",
       "      <td>1.415296</td>\n",
       "    </tr>\n",
       "    <tr>\n",
       "      <th>10</th>\n",
       "      <td>1.050817</td>\n",
       "      <td>-0.723871</td>\n",
       "    </tr>\n",
       "    <tr>\n",
       "      <th>11</th>\n",
       "      <td>-1.079500</td>\n",
       "      <td>-0.130257</td>\n",
       "    </tr>\n",
       "    <tr>\n",
       "      <th>12</th>\n",
       "      <td>1.375508</td>\n",
       "      <td>-0.730175</td>\n",
       "    </tr>\n",
       "    <tr>\n",
       "      <th>13</th>\n",
       "      <td>0.120396</td>\n",
       "      <td>1.271237</td>\n",
       "    </tr>\n",
       "    <tr>\n",
       "      <th>14</th>\n",
       "      <td>-1.353016</td>\n",
       "      <td>-0.694834</td>\n",
       "    </tr>\n",
       "    <tr>\n",
       "      <th>15</th>\n",
       "      <td>0.921988</td>\n",
       "      <td>-0.301517</td>\n",
       "    </tr>\n",
       "    <tr>\n",
       "      <th>16</th>\n",
       "      <td>0.613921</td>\n",
       "      <td>-0.538883</td>\n",
       "    </tr>\n",
       "    <tr>\n",
       "      <th>17</th>\n",
       "      <td>1.527330</td>\n",
       "      <td>-0.261249</td>\n",
       "    </tr>\n",
       "    <tr>\n",
       "      <th>18</th>\n",
       "      <td>-1.020254</td>\n",
       "      <td>-0.711459</td>\n",
       "    </tr>\n",
       "    <tr>\n",
       "      <th>19</th>\n",
       "      <td>-0.397074</td>\n",
       "      <td>1.287203</td>\n",
       "    </tr>\n",
       "    <tr>\n",
       "      <th>20</th>\n",
       "      <td>-1.346313</td>\n",
       "      <td>-0.833347</td>\n",
       "    </tr>\n",
       "    <tr>\n",
       "      <th>21</th>\n",
       "      <td>0.561912</td>\n",
       "      <td>-0.038529</td>\n",
       "    </tr>\n",
       "    <tr>\n",
       "      <th>22</th>\n",
       "      <td>-0.991927</td>\n",
       "      <td>-0.086885</td>\n",
       "    </tr>\n",
       "    <tr>\n",
       "      <th>23</th>\n",
       "      <td>0.079974</td>\n",
       "      <td>1.807489</td>\n",
       "    </tr>\n",
       "    <tr>\n",
       "      <th>24</th>\n",
       "      <td>0.885708</td>\n",
       "      <td>-0.083425</td>\n",
       "    </tr>\n",
       "    <tr>\n",
       "      <th>25</th>\n",
       "      <td>-0.228094</td>\n",
       "      <td>1.570123</td>\n",
       "    </tr>\n",
       "    <tr>\n",
       "      <th>26</th>\n",
       "      <td>0.544652</td>\n",
       "      <td>-0.289678</td>\n",
       "    </tr>\n",
       "    <tr>\n",
       "      <th>27</th>\n",
       "      <td>-0.727797</td>\n",
       "      <td>0.640513</td>\n",
       "    </tr>\n",
       "    <tr>\n",
       "      <th>28</th>\n",
       "      <td>0.132398</td>\n",
       "      <td>2.152345</td>\n",
       "    </tr>\n",
       "    <tr>\n",
       "      <th>29</th>\n",
       "      <td>-1.276211</td>\n",
       "      <td>-1.012024</td>\n",
       "    </tr>\n",
       "  </tbody>\n",
       "</table>\n",
       "</div>"
      ],
      "text/plain": [
       "    Teeth Health  Teeth Aesthetics\n",
       "0       1.334788         -0.206786\n",
       "1      -1.299459         -0.266587\n",
       "2       1.155548         -0.866505\n",
       "3       0.144256          0.946717\n",
       "4      -1.480144         -1.417752\n",
       "5       1.009562         -0.258146\n",
       "6       0.462932         -0.937282\n",
       "7       1.184946         -0.126602\n",
       "8      -0.800295         -0.575130\n",
       "9      -1.106550          1.415296\n",
       "10      1.050817         -0.723871\n",
       "11     -1.079500         -0.130257\n",
       "12      1.375508         -0.730175\n",
       "13      0.120396          1.271237\n",
       "14     -1.353016         -0.694834\n",
       "15      0.921988         -0.301517\n",
       "16      0.613921         -0.538883\n",
       "17      1.527330         -0.261249\n",
       "18     -1.020254         -0.711459\n",
       "19     -0.397074          1.287203\n",
       "20     -1.346313         -0.833347\n",
       "21      0.561912         -0.038529\n",
       "22     -0.991927         -0.086885\n",
       "23      0.079974          1.807489\n",
       "24      0.885708         -0.083425\n",
       "25     -0.228094          1.570123\n",
       "26      0.544652         -0.289678\n",
       "27     -0.727797          0.640513\n",
       "28      0.132398          2.152345\n",
       "29     -1.276211         -1.012024"
      ]
     },
     "execution_count": 19,
     "metadata": {},
     "output_type": "execute_result"
    }
   ],
   "source": [
    "#New data for further analysis\n",
    "new_df = pd.DataFrame(fa1.transform(df), columns=('Teeth Health', 'Teeth Aesthetics'))\n",
    "new_df.head(30)"
   ]
  },
  {
   "cell_type": "code",
   "execution_count": null,
   "metadata": {},
   "outputs": [],
   "source": []
  }
 ],
 "metadata": {
  "kernelspec": {
   "display_name": "Python 3",
   "language": "python",
   "name": "python3"
  },
  "language_info": {
   "codemirror_mode": {
    "name": "ipython",
    "version": 3
   },
   "file_extension": ".py",
   "mimetype": "text/x-python",
   "name": "python",
   "nbconvert_exporter": "python",
   "pygments_lexer": "ipython3",
   "version": "3.7.3"
  }
 },
 "nbformat": 4,
 "nbformat_minor": 2
}
