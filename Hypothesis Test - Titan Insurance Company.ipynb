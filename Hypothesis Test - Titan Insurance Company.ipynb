{
  "nbformat": 4,
  "nbformat_minor": 0,
  "metadata": {
    "kernelspec": {
      "display_name": "Python 3",
      "language": "python",
      "name": "python3"
    },
    "language_info": {
      "codemirror_mode": {
        "name": "ipython",
        "version": 3
      },
      "file_extension": ".py",
      "mimetype": "text/x-python",
      "name": "python",
      "nbconvert_exporter": "python",
      "pygments_lexer": "ipython3",
      "version": "3.7.3"
    },
    "colab": {
      "name": "Hypothesis Test - Titan Insurance Company.ipynb",
      "provenance": []
    }
  },
  "cells": [
    {
      "cell_type": "code",
      "metadata": {
        "id": "kYN_010Tekt8"
      },
      "source": [
        "#Importing the relevant packages\n",
        "\n",
        "import numpy as np\n",
        "import pandas as pd"
      ],
      "execution_count": null,
      "outputs": []
    },
    {
      "cell_type": "code",
      "metadata": {
        "id": "QVDZN7E8ekt9",
        "outputId": "f355b541-9a28-4c1c-9b9a-e0e03e5c514d"
      },
      "source": [
        "#Creating a dataframe and reading the salesperson file into the dataframe\n",
        "\n",
        "#The CSV file was created with the data provided in the question\n",
        "df = pd.read_csv(\"Salesperson.csv\")\n",
        "df.head()"
      ],
      "execution_count": null,
      "outputs": [
        {
          "output_type": "execute_result",
          "data": {
            "text/html": [
              "<div>\n",
              "<style scoped>\n",
              "    .dataframe tbody tr th:only-of-type {\n",
              "        vertical-align: middle;\n",
              "    }\n",
              "\n",
              "    .dataframe tbody tr th {\n",
              "        vertical-align: top;\n",
              "    }\n",
              "\n",
              "    .dataframe thead th {\n",
              "        text-align: right;\n",
              "    }\n",
              "</style>\n",
              "<table border=\"1\" class=\"dataframe\">\n",
              "  <thead>\n",
              "    <tr style=\"text-align: right;\">\n",
              "      <th></th>\n",
              "      <th>SALESPERSON</th>\n",
              "      <th>Old Scheme (in thousands)</th>\n",
              "      <th>New Scheme (in thousands)</th>\n",
              "    </tr>\n",
              "  </thead>\n",
              "  <tbody>\n",
              "    <tr>\n",
              "      <th>0</th>\n",
              "      <td>1</td>\n",
              "      <td>57</td>\n",
              "      <td>62</td>\n",
              "    </tr>\n",
              "    <tr>\n",
              "      <th>1</th>\n",
              "      <td>2</td>\n",
              "      <td>103</td>\n",
              "      <td>122</td>\n",
              "    </tr>\n",
              "    <tr>\n",
              "      <th>2</th>\n",
              "      <td>3</td>\n",
              "      <td>59</td>\n",
              "      <td>54</td>\n",
              "    </tr>\n",
              "    <tr>\n",
              "      <th>3</th>\n",
              "      <td>4</td>\n",
              "      <td>75</td>\n",
              "      <td>82</td>\n",
              "    </tr>\n",
              "    <tr>\n",
              "      <th>4</th>\n",
              "      <td>5</td>\n",
              "      <td>84</td>\n",
              "      <td>84</td>\n",
              "    </tr>\n",
              "  </tbody>\n",
              "</table>\n",
              "</div>"
            ],
            "text/plain": [
              "   SALESPERSON  Old Scheme (in thousands)  New Scheme (in thousands)\n",
              "0            1                         57                         62\n",
              "1            2                        103                        122\n",
              "2            3                         59                         54\n",
              "3            4                         75                         82\n",
              "4            5                         84                         84"
            ]
          },
          "metadata": {
            "tags": []
          },
          "execution_count": 4
        }
      ]
    },
    {
      "cell_type": "code",
      "metadata": {
        "id": "MzrN09ovekt_",
        "outputId": "bdec613f-ef16-493f-f8dd-b8c8f2346334"
      },
      "source": [
        "#Printing the mean of Old scheme and New scheme\n",
        "m1 = df['Old Scheme (in thousands)'].mean()\n",
        "m2 = df['New Scheme (in thousands)'].mean()\n",
        "\n",
        "print(\"The mean of policies assured in Old scheme:\", m1)\n",
        "print(\"The mean of policies assured in New Scheme:\", m2)"
      ],
      "execution_count": null,
      "outputs": [
        {
          "output_type": "stream",
          "text": [
            "The mean of policies assured in Old scheme: 68.03333333333333\n",
            "The mean of policies assured in New Scheme: 72.03333333333333\n"
          ],
          "name": "stdout"
        }
      ]
    },
    {
      "cell_type": "markdown",
      "metadata": {
        "id": "p4IWufQbekuA"
      },
      "source": [
        " Insights:\n",
        "\n",
        "\t• Sample of 30 salesperson is the same. But two different experiments are conducted. \n",
        "\t• One, before the new scheme and the other, after the new scheme.\n",
        "\t• This is an example of \"Paired Two Sample Testing\".\n"
      ]
    },
    {
      "cell_type": "markdown",
      "metadata": {
        "id": "u_KkF4cIekuB"
      },
      "source": [
        "Approach:\n",
        "\n",
        "\t• First formulate the Null Hypothesis and Alternate Hypothesis.\n",
        "\t\n",
        "\t• Test of Assumptions :\n",
        "       1) Normality Assumption :\n",
        "          Visual approach - Histogram\n",
        "          Statistical approach - Shapiro's Test\n",
        "       2) Equality of Variance :\n",
        "          Visual approach - Boxplot\n",
        "          Statistical approach - Levene's Test\n",
        "\n",
        "\t• Model Selection:\n",
        "\t   1) If data is normal, go for Parametric Modelling.\n",
        "\t      T Test, Z Test\n",
        "\t   2) If data is not normal, go for Non Parametric Modelling. \n",
        "\t      Wilcoxon\n",
        "\n",
        "\t• Run the model and take decisions based on the model output.\n"
      ]
    },
    {
      "cell_type": "code",
      "metadata": {
        "id": "WB3ZePHpekuB"
      },
      "source": [
        "#Formulating the Null and Alternate Hypothesis\n",
        "\n",
        "#Null Hypothesis : The mean of Old scheme and New scheme are equal\n",
        "#Alternate Hypothesis : The mean of Old scheme and New scheme are not equal"
      ],
      "execution_count": null,
      "outputs": []
    },
    {
      "cell_type": "code",
      "metadata": {
        "id": "G7RWqW2sekuC",
        "outputId": "edd6301d-1a7d-41ec-a092-0bae6df3a2c7"
      },
      "source": [
        "#Conducting the assumptions test\n",
        "\n",
        "\n",
        "#Test of Normality using histogram for both the samples\n",
        "import seaborn as sns\n",
        "sns.distplot(df['Old Scheme (in thousands)'])"
      ],
      "execution_count": null,
      "outputs": [
        {
          "output_type": "execute_result",
          "data": {
            "text/plain": [
              "<matplotlib.axes._subplots.AxesSubplot at 0x237eb133160>"
            ]
          },
          "metadata": {
            "tags": []
          },
          "execution_count": 8
        },
        {
          "output_type": "display_data",
          "data": {
            "image/png": "[encoded data removed]",
            "text/plain": [
              "<Figure size 432x288 with 1 Axes>"
            ]
          },
          "metadata": {
            "tags": [],
            "needs_background": "light"
          }
        }
      ]
    },
    {
      "cell_type": "markdown",
      "metadata": {
        "id": "VW9dNGlvekuC"
      },
      "source": [
        "From the above distribution plot, we infer that the 'Old Scheme (in thousands)' is normally distributed."
      ]
    },
    {
      "cell_type": "code",
      "metadata": {
        "id": "L8HTzk3QekuD",
        "outputId": "9e42d116-a00b-4e1f-ed62-ff7002927092"
      },
      "source": [
        "sns.distplot(df['New Scheme (in thousands)'])"
      ],
      "execution_count": null,
      "outputs": [
        {
          "output_type": "execute_result",
          "data": {
            "text/plain": [
              "<matplotlib.axes._subplots.AxesSubplot at 0x237eb1c5fd0>"
            ]
          },
          "metadata": {
            "tags": []
          },
          "execution_count": 9
        },
        {
          "output_type": "display_data",
          "data": {
            "image/png": "[encoded data removed]",
            "text/plain": [
              "<Figure size 432x288 with 1 Axes>"
            ]
          },
          "metadata": {
            "tags": [],
            "needs_background": "light"
          }
        }
      ]
    },
    {
      "cell_type": "markdown",
      "metadata": {
        "id": "nWgduwcVekuD"
      },
      "source": [
        "Although there is a small deviation from a perfected shaped 'Bell Curve', we can still infer that the 'New Scheme (in thousands)' is also normally distributed. However Shapiro's test can be used to confirm the normality of this distribution."
      ]
    },
    {
      "cell_type": "code",
      "metadata": {
        "id": "qLT2e8YdekuD",
        "outputId": "6f099fa6-5ca0-423e-eb92-2604217bf0c7"
      },
      "source": [
        "#Conducting a Statistical Test \"Shapiro's Test\" to confirm the normality of the distribution\n",
        "from scipy.stats import ttest_1samp, shapiro, levene\n",
        "\n",
        "#Shapiro'sTest\n",
        "#Null Hypothesis : Data is not Non-Normal\n",
        "#Alternate Hypothesis : Data is Non-Normal\n",
        "\n",
        "#Old Scheme (in thousands)\n",
        "shapiro(df['Old Scheme (in thousands)'])"
      ],
      "execution_count": null,
      "outputs": [
        {
          "output_type": "execute_result",
          "data": {
            "text/plain": [
              "(0.9885101914405823, 0.9813658595085144)"
            ]
          },
          "metadata": {
            "tags": []
          },
          "execution_count": 5
        }
      ]
    },
    {
      "cell_type": "markdown",
      "metadata": {
        "id": "JsbDLgmgekuE"
      },
      "source": [
        "Interpretation: The P value is 98.13% which is greater than 5%. Therefore the Null Hypothesis is NOT REJECTED. Hence 'Old Scheme (in thousands) is normally distributed."
      ]
    },
    {
      "cell_type": "code",
      "metadata": {
        "id": "tUavovUaekuF",
        "outputId": "4d81bb81-c88a-438f-d1ff-546bedf07619"
      },
      "source": [
        "#New Scheme (in thousands)\n",
        "shapiro(df['New Scheme (in thousands)'])"
      ],
      "execution_count": null,
      "outputs": [
        {
          "output_type": "execute_result",
          "data": {
            "text/plain": [
              "(0.9687567353248596, 0.5057420134544373)"
            ]
          },
          "metadata": {
            "tags": []
          },
          "execution_count": 11
        }
      ]
    },
    {
      "cell_type": "markdown",
      "metadata": {
        "id": "JveW5MPwekuF"
      },
      "source": [
        "Interpretation: The P value is 50.57% which is greater than 5% (Significance Level). Therefore the Null Hypothesis is NOT REJECTED. Hence 'New Scheme (in thousands)' is also normally distributed."
      ]
    },
    {
      "cell_type": "code",
      "metadata": {
        "id": "oW_O5qulekuF",
        "outputId": "f5585a2a-662b-4f35-f86a-ca612747617f"
      },
      "source": [
        "df.head()"
      ],
      "execution_count": null,
      "outputs": [
        {
          "output_type": "execute_result",
          "data": {
            "text/html": [
              "<div>\n",
              "<style scoped>\n",
              "    .dataframe tbody tr th:only-of-type {\n",
              "        vertical-align: middle;\n",
              "    }\n",
              "\n",
              "    .dataframe tbody tr th {\n",
              "        vertical-align: top;\n",
              "    }\n",
              "\n",
              "    .dataframe thead th {\n",
              "        text-align: right;\n",
              "    }\n",
              "</style>\n",
              "<table border=\"1\" class=\"dataframe\">\n",
              "  <thead>\n",
              "    <tr style=\"text-align: right;\">\n",
              "      <th></th>\n",
              "      <th>SALESPERSON</th>\n",
              "      <th>Old Scheme (in thousands)</th>\n",
              "      <th>New Scheme (in thousands)</th>\n",
              "    </tr>\n",
              "  </thead>\n",
              "  <tbody>\n",
              "    <tr>\n",
              "      <th>0</th>\n",
              "      <td>1</td>\n",
              "      <td>57</td>\n",
              "      <td>62</td>\n",
              "    </tr>\n",
              "    <tr>\n",
              "      <th>1</th>\n",
              "      <td>2</td>\n",
              "      <td>103</td>\n",
              "      <td>122</td>\n",
              "    </tr>\n",
              "    <tr>\n",
              "      <th>2</th>\n",
              "      <td>3</td>\n",
              "      <td>59</td>\n",
              "      <td>54</td>\n",
              "    </tr>\n",
              "    <tr>\n",
              "      <th>3</th>\n",
              "      <td>4</td>\n",
              "      <td>75</td>\n",
              "      <td>82</td>\n",
              "    </tr>\n",
              "    <tr>\n",
              "      <th>4</th>\n",
              "      <td>5</td>\n",
              "      <td>84</td>\n",
              "      <td>84</td>\n",
              "    </tr>\n",
              "  </tbody>\n",
              "</table>\n",
              "</div>"
            ],
            "text/plain": [
              "   SALESPERSON  Old Scheme (in thousands)  New Scheme (in thousands)\n",
              "0            1                         57                         62\n",
              "1            2                        103                        122\n",
              "2            3                         59                         54\n",
              "3            4                         75                         82\n",
              "4            5                         84                         84"
            ]
          },
          "metadata": {
            "tags": []
          },
          "execution_count": 12
        }
      ]
    },
    {
      "cell_type": "code",
      "metadata": {
        "id": "xivz3xZ_ekuG",
        "outputId": "62bb6c60-39a5-4ec7-be3a-74cf6be1a72d"
      },
      "source": [
        "#Conducting the equality of variance test \n",
        "\n",
        "#Visual approach using a Boxplot\n",
        "\n",
        "import seaborn as sns\n",
        "\n",
        "sns.boxplot(y = df['Old Scheme (in thousands)'], data = df,)"
      ],
      "execution_count": null,
      "outputs": [
        {
          "output_type": "execute_result",
          "data": {
            "text/plain": [
              "<matplotlib.axes._subplots.AxesSubplot at 0x237ee39c710>"
            ]
          },
          "metadata": {
            "tags": []
          },
          "execution_count": 21
        },
        {
          "output_type": "display_data",
          "data": {
            "image/png": "[encoded data removed]",
            "text/plain": [
              "<Figure size 432x288 with 1 Axes>"
            ]
          },
          "metadata": {
            "tags": [],
            "needs_background": "light"
          }
        }
      ]
    },
    {
      "cell_type": "markdown",
      "metadata": {
        "id": "cAhkJfRjekuG"
      },
      "source": [
        "Interpretation:\n",
        "#1) The median or the 50th percentile approximately divides the box into equal halves. This shows that the distribution of salesperson is symmetrical above and below the 50th percentile.\n",
        "#2) The distribution is free from outliers which tells us that the variance in the data is neither too large or too small.\n",
        "#3) The average distance of each data point from the mean of the distribution does not vary much."
      ]
    },
    {
      "cell_type": "code",
      "metadata": {
        "id": "_lfTjQAXekuH",
        "outputId": "ef8ce6fc-e095-4c67-fa9d-34d88fbf96f5"
      },
      "source": [
        "sns.boxplot(y =df['New Scheme (in thousands)'], data = df)"
      ],
      "execution_count": null,
      "outputs": [
        {
          "output_type": "execute_result",
          "data": {
            "text/plain": [
              "<matplotlib.axes._subplots.AxesSubplot at 0x237ee5af710>"
            ]
          },
          "metadata": {
            "tags": []
          },
          "execution_count": 22
        },
        {
          "output_type": "display_data",
          "data": {
            "image/png": "[encoded data removed]",
            "text/plain": [
              "<Figure size 432x288 with 1 Axes>"
            ]
          },
          "metadata": {
            "tags": [],
            "needs_background": "light"
          }
        }
      ]
    },
    {
      "cell_type": "markdown",
      "metadata": {
        "id": "HaqFKTfsekuH"
      },
      "source": [
        "Interpretation:\n",
        "#1) The plot suggests that the concentration of salesperson below the 50th percentile are more than the concentration above the 50th percentile. \n",
        "#2) The distribution is slightly skewed on the right but it is still free from outliers. Therefore the variance is neither too large nor too small.\n",
        "#3) The average distance of each data point from the mean of the distribution does not vary much."
      ]
    },
    {
      "cell_type": "code",
      "metadata": {
        "id": "KUoL9nZXekuI",
        "outputId": "3acca76b-eb7b-4e59-ce35-0f8f9fad6353"
      },
      "source": [
        "#Conducting a Statistical Levene's Test to confirm the equality of variances\n",
        "\n",
        "#Null Hypothesis : The variances of 'Old Scheme (in thousands)' and 'New Scheme (in thousands)' are equal\n",
        "#Alternate Hypothesis : The variances of 'Old Scheme (in thousands)' and 'New Scheme (in thousands)' are not equal\n",
        "\n",
        "levene(df['Old Scheme (in thousands)'], df['New Scheme (in thousands)'])"
      ],
      "execution_count": null,
      "outputs": [
        {
          "output_type": "execute_result",
          "data": {
            "text/plain": [
              "LeveneResult(statistic=1.063061539437244, pvalue=0.30679836081811235)"
            ]
          },
          "metadata": {
            "tags": []
          },
          "execution_count": 23
        }
      ]
    },
    {
      "cell_type": "markdown",
      "metadata": {
        "id": "lqsk0dRrekuI"
      },
      "source": [
        "Interpretation : The P value is 30.67% which is greater than the 5% significance level. Therefore the Null Hypothesis is NOT REJECTED. Hence, the test confirms that the variances of 'Old Scheme (in thousands)' and 'New Scheme (in thousands)' are equal."
      ]
    },
    {
      "cell_type": "markdown",
      "metadata": {
        "id": "2qwZbo89ekuI"
      },
      "source": [
        "Both the samples follow a distribution (Normal distribution) and the variances of the samples are equal. Therefore a Parametric model is chosen."
      ]
    },
    {
      "cell_type": "code",
      "metadata": {
        "id": "vvA6hKmWekuJ",
        "outputId": "1ec28ef9-2f1c-4ecd-adf3-6823cf70943a"
      },
      "source": [
        "#Conducting a T Test - Paired Two Sample Testing\n",
        "\n",
        "t_statistic, p_value = ttest_1samp(df['Old Scheme (in thousands)'] - df['New Scheme (in thousands)'], 0)\n",
        "\n",
        "print(\"The T statistic value of the Paired 2 sample test:\", t_statistic)\n",
        "print(\"The P value of the Paired 2 sample test:\", p_value)"
      ],
      "execution_count": null,
      "outputs": [
        {
          "output_type": "stream",
          "text": [
            "The T statistic value of the Paired 2 sample test: -1.5559143823544377\n",
            "The P value of the Paired 2 sample test: 0.13057553961337662\n"
          ],
          "name": "stdout"
        }
      ]
    },
    {
      "cell_type": "markdown",
      "metadata": {
        "id": "SZs3iP5SekuJ"
      },
      "source": [
        "Interpretation: \n",
        "#1) The T Statistic value is -1.55 which is greater than -1.96. Therefore the T Statistic value lies in the 95% confidence region which tells us that the distance between the T Stat value and the difference of mean of two samples is not significantly large. Therefore the Null Hypothesis is NOT REJECTED. Hence the population mean of Old scheme and New scheme are equal.\n",
        "#2) The P value is 13.05% which is greater than the 5% significance level. Therefore the Null Hypothesis is NOT REJECTED. This confirms that the population mean of Old scheme and New scheme are equal.\n",
        "#3) The New scheme has not raised outputs significantly."
      ]
    },
    {
      "cell_type": "markdown",
      "metadata": {
        "id": "LKHQrM0rekuJ"
      },
      "source": [
        "# 3) What conclusion does the test (p-value) lead to?"
      ]
    },
    {
      "cell_type": "markdown",
      "metadata": {
        "id": "ut6-AkYKekuK"
      },
      "source": [
        "Business Decision: \n",
        "#1) The mean sum assured of policies of both the schemes are equal. This tell us that the \"New scheme has not raised outputs significantly\".\n",
        "#2) With 4 months already passed under the New scheme and only two months left to achieve the breakeven, it is best advised to dissolve the New scheme and continue with the Old scheme because nothing significant may happen in two months time.\n",
        "#3) If the Titan Insurance company is willing to continue with the New scheme, then they may have to deploy more salesperson in the coming months to improve their mean sum assured of policies in order to achieve the breakeven. This would be a risky choice."
      ]
    }
  ]
}